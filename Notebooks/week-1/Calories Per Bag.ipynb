{
 "cells": [
  {
   "cell_type": "markdown",
   "metadata": {},
   "source": [
    "## Calories per popped bag"
   ]
  },
  {
   "cell_type": "code",
   "execution_count": 1,
   "metadata": {
    "collapsed": true
   },
   "outputs": [],
   "source": [
    "# calories = 25 calories / 1 cup\n",
    "# serving size = 4.5 cups\n",
    "# bag = 2 servings"
   ]
  },
  {
   "cell_type": "code",
   "execution_count": 16,
   "metadata": {
    "collapsed": true
   },
   "outputs": [],
   "source": [
    "calories_per_one_cup_popped = 25\n",
    "serving_size_in_cups = 4.5\n",
    "bag_servings = serving_size_in_cups * 2.5"
   ]
  },
  {
   "cell_type": "code",
   "execution_count": 17,
   "metadata": {
    "collapsed": false
   },
   "outputs": [],
   "source": [
    "calories_per_popped_bag = calories_per_one_cup_popped * bag_servings"
   ]
  },
  {
   "cell_type": "code",
   "execution_count": 18,
   "metadata": {
    "collapsed": false
   },
   "outputs": [
    {
     "data": {
      "text/plain": [
       "281.25"
      ]
     },
     "execution_count": 18,
     "metadata": {},
     "output_type": "execute_result"
    }
   ],
   "source": [
    "calories_per_popped_bag"
   ]
  },
  {
   "cell_type": "code",
   "execution_count": 43,
   "metadata": {
    "collapsed": true
   },
   "outputs": [],
   "source": [
    "def calories_per_popped_bag(bags=1, calories_per_cup=25, serving_size=4.5):\n",
    "    bag_servings = serving_size * 2.5\n",
    "    return (calories_per_cup * bag_servings) * bags"
   ]
  },
  {
   "cell_type": "code",
   "execution_count": 40,
   "metadata": {
    "collapsed": false
   },
   "outputs": [
    {
     "name": "stdout",
     "output_type": "stream",
     "text": [
      "2025.0\n"
     ]
    }
   ],
   "source": [
    "calories_per_popped_bag(2, calories_per_cup=90)"
   ]
  },
  {
   "cell_type": "code",
   "execution_count": 57,
   "metadata": {
    "collapsed": true
   },
   "outputs": [],
   "source": [
    "popcorn_dataset = [\n",
    "    [62, 4.5],\n",
    "    [15, 5.23],\n",
    "    [25, 3]\n",
    "]"
   ]
  },
  {
   "cell_type": "code",
   "execution_count": 116,
   "metadata": {
    "collapsed": false
   },
   "outputs": [],
   "source": [
    "for popcorn_bag in popcorn_dataset:\n",
    "    calories = calories_per_popped_bag(\n",
    "        bags=1, \n",
    "        calories_per_cup=popcorn_bag[0], \n",
    "        serving_size=popcorn_bag[1])\n",
    "    if calories not in popcorn_bag:\n",
    "        popcorn_bag.append(calories)"
   ]
  },
  {
   "cell_type": "code",
   "execution_count": 115,
   "metadata": {
    "collapsed": false
   },
   "outputs": [
    {
     "data": {
      "text/plain": [
       "[[62, 4.5, 697.5], [15, 5.23, 196.12500000000003], [25, 3, 187.5]]"
      ]
     },
     "execution_count": 115,
     "metadata": {},
     "output_type": "execute_result"
    }
   ],
   "source": [
    "popcorn_dataset"
   ]
  },
  {
   "cell_type": "code",
   "execution_count": 119,
   "metadata": {
    "collapsed": false
   },
   "outputs": [
    {
     "name": "stdout",
     "output_type": "stream",
     "text": [
      "space in!!!!\n"
     ]
    }
   ],
   "source": [
    "if \" \" in \"joel taddei\":\n",
    "    print(\"space in!!!!\")\n",
    "else:\n",
    "    print(\"no space!\")"
   ]
  },
  {
   "cell_type": "code",
   "execution_count": null,
   "metadata": {
    "collapsed": true
   },
   "outputs": [],
   "source": []
  }
 ],
 "metadata": {
  "kernelspec": {
   "display_name": "Python 3",
   "language": "python",
   "name": "python3"
  },
  "language_info": {
   "codemirror_mode": {
    "name": "ipython",
    "version": 3
   },
   "file_extension": ".py",
   "mimetype": "text/x-python",
   "name": "python",
   "nbconvert_exporter": "python",
   "pygments_lexer": "ipython3",
   "version": "3.5.0"
  }
 },
 "nbformat": 4,
 "nbformat_minor": 0
}
