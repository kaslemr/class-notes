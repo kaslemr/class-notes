{
 "cells": [
  {
   "cell_type": "code",
   "execution_count": 1,
   "metadata": {
    "collapsed": true
   },
   "outputs": [],
   "source": [
    "# joel  = oeljay\n",
    "# jeff = effjay\n",
    "# bekk = ekkbay\n",
    "# eat = eatway"
   ]
  },
  {
   "cell_type": "code",
   "execution_count": 27,
   "metadata": {
    "collapsed": false
   },
   "outputs": [
    {
     "data": {
      "text/plain": [
       "'oeljay isyay eatingyay aladsay'"
      ]
     },
     "execution_count": 27,
     "metadata": {},
     "output_type": "execute_result"
    }
   ],
   "source": [
    "sentence = \"Joel is eating salad\"\n",
    "vowels = \"aeiou\"\n",
    "new_word_list = []\n",
    "\n",
    "def pig_latin(word):\n",
    "    if word[0].lower() in vowels:\n",
    "        new_word = word + \"yay\"\n",
    "    else:\n",
    "        end_characters = word[0] + \"ay\"\n",
    "        new_word = word[1:] + end_characters\n",
    "    return new_word\n",
    "\n",
    "for word in sentence.split(\" \"):\n",
    "    new_word = pig_latin(word)\n",
    "    new_word_list.append(new_word.lower())\n",
    "\n",
    "\" \".join(new_word_list)"
   ]
  },
  {
   "cell_type": "code",
   "execution_count": 19,
   "metadata": {
    "collapsed": false
   },
   "outputs": [
    {
     "data": {
      "text/plain": [
       "['joel', 'is', 'eating', 'salad']"
      ]
     },
     "execution_count": 19,
     "metadata": {},
     "output_type": "execute_result"
    }
   ],
   "source": [
    "\"joel is eating salad\".split(\" \")"
   ]
  },
  {
   "cell_type": "code",
   "execution_count": 48,
   "metadata": {
    "collapsed": false
   },
   "outputs": [
    {
     "name": "stdout",
     "output_type": "stream",
     "text": [
      "joel is eating salad\n"
     ]
    }
   ],
   "source": [
    "sentence = \"joel is eating salad\"\n",
    "\n",
    "def uppercase_all_char(target_char, word):\n",
    "    indexes = []\n",
    "    for index, char in enumerate(s):\n",
    "        if char.lower() == target_char.lower():\n",
    "            word = word.replace(word[index], word[index].upper())\n",
    "    return word\n",
    "\n",
    "print(uppercase_all_char(\"q\", sentence))"
   ]
  },
  {
   "cell_type": "code",
   "execution_count": 31,
   "metadata": {
    "collapsed": false
   },
   "outputs": [
    {
     "data": {
      "text/plain": [
       "2"
      ]
     },
     "execution_count": 31,
     "metadata": {},
     "output_type": "execute_result"
    }
   ],
   "source": [
    "s.find(\"e\")"
   ]
  },
  {
   "cell_type": "code",
   "execution_count": 34,
   "metadata": {
    "collapsed": false
   },
   "outputs": [
    {
     "name": "stdout",
     "output_type": "stream",
     "text": [
      "Help on method_descriptor:\n",
      "\n",
      "index(...)\n",
      "    S.index(sub[, start[, end]]) -> int\n",
      "    \n",
      "    Like S.find() but raise ValueError when the substring is not found.\n",
      "\n"
     ]
    }
   ],
   "source": [
    "help(str.index)"
   ]
  },
  {
   "cell_type": "code",
   "execution_count": null,
   "metadata": {
    "collapsed": true
   },
   "outputs": [],
   "source": []
  }
 ],
 "metadata": {
  "kernelspec": {
   "display_name": "Python 3",
   "language": "python",
   "name": "python3"
  },
  "language_info": {
   "codemirror_mode": {
    "name": "ipython",
    "version": 3
   },
   "file_extension": ".py",
   "mimetype": "text/x-python",
   "name": "python",
   "nbconvert_exporter": "python",
   "pygments_lexer": "ipython3",
   "version": "3.5.0"
  }
 },
 "nbformat": 4,
 "nbformat_minor": 0
}
