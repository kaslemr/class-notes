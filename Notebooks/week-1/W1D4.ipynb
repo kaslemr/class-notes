{
 "cells": [
  {
   "cell_type": "code",
   "execution_count": 4,
   "metadata": {
    "collapsed": false
   },
   "outputs": [
    {
     "data": {
      "text/plain": [
       "['Joel',\n",
       " 'This',\n",
       " 'is',\n",
       " 'a',\n",
       " 'string',\n",
       " 'with',\n",
       " 'double',\n",
       " 'and',\n",
       " 'crazy',\n",
       " 'amounts',\n",
       " 'of',\n",
       " 'whitespace.']"
      ]
     },
     "execution_count": 4,
     "metadata": {},
     "output_type": "execute_result"
    }
   ],
   "source": [
    "\"\"\"Joel This is a string with    double   and crazy    \n",
    "\n",
    "amounts \n",
    "of \\t whitespace.\"\"\".split()"
   ]
  },
  {
   "cell_type": "code",
   "execution_count": 7,
   "metadata": {
    "collapsed": false
   },
   "outputs": [],
   "source": [
    "person_list = \"\"\"joel,32,6,balloons\n",
    "zach,27,6.3,clowns\n",
    "jack,5,4,bad guys\"\"\".split(\"\\n\")"
   ]
  },
  {
   "cell_type": "code",
   "execution_count": 10,
   "metadata": {
    "collapsed": false
   },
   "outputs": [],
   "source": [
    "cleaned_data = [x.split(\",\") for x in person_list]"
   ]
  },
  {
   "cell_type": "code",
   "execution_count": 12,
   "metadata": {
    "collapsed": false
   },
   "outputs": [
    {
     "name": "stdout",
     "output_type": "stream",
     "text": [
      "joel 32\n",
      "zach 27\n",
      "jack 5\n"
     ]
    }
   ],
   "source": [
    "for name, age, height, fear in cleaned_data:\n",
    "    print(name, age)"
   ]
  },
  {
   "cell_type": "code",
   "execution_count": 32,
   "metadata": {
    "collapsed": false
   },
   "outputs": [
    {
     "name": "stdout",
     "output_type": "stream",
     "text": [
      "joel,32,6,balloons\n",
      "\n",
      "zach,27,6.3,clowns\n",
      "\n",
      "jack,5,4,bad guys\n"
     ]
    }
   ],
   "source": [
    "# GOOD!!!!\n",
    "with open(\"person_info.txt\") as infile:\n",
    "    for line in infile:\n",
    "        print(line)"
   ]
  },
  {
   "cell_type": "code",
   "execution_count": 29,
   "metadata": {
    "collapsed": false
   },
   "outputs": [
    {
     "name": "stdout",
     "output_type": "stream",
     "text": [
      "j\n",
      "o\n",
      "e\n",
      "l\n",
      ",\n",
      "3\n",
      "2\n",
      ",\n",
      "6\n",
      ",\n",
      "b\n",
      "a\n",
      "l\n",
      "l\n",
      "o\n",
      "o\n",
      "n\n",
      "s\n",
      "\n",
      "\n"
     ]
    }
   ],
   "source": [
    "for line in data:\n",
    "    print(line)"
   ]
  },
  {
   "cell_type": "code",
   "execution_count": null,
   "metadata": {
    "collapsed": true
   },
   "outputs": [],
   "source": [
    "#### bad !!!\n",
    "infile = open(\"person_info.txt\")\n",
    "data = infile.read()    \n",
    "infile.close()"
   ]
  },
  {
   "cell_type": "code",
   "execution_count": 40,
   "metadata": {
    "collapsed": false
   },
   "outputs": [],
   "source": [
    "#name = input(\"name ? \")\n",
    "#age = input(\"age ? \")\n",
    "#height = input(\"height in ft ? \")\n",
    "#fear = input(\"fear ? \")\n",
    "\n",
    "with open(\"person_info.txt\", \"a\") as outfile:\n",
    "    outfile.write(\"\\n{},{},{},{}\".format(name, age, height, fear))"
   ]
  },
  {
   "cell_type": "code",
   "execution_count": 45,
   "metadata": {
    "collapsed": false
   },
   "outputs": [
    {
     "name": "stdout",
     "output_type": "stream",
     "text": [
      "My name is: joel, My age is: 32, My height is: 6\n"
     ]
    }
   ],
   "source": [
    "v = [\"joel\", 32, 6]\n",
    "print(\"My name is: {}, My age is: {}, My height is: {}\".format(*v))"
   ]
  },
  {
   "cell_type": "code",
   "execution_count": 53,
   "metadata": {
    "collapsed": false
   },
   "outputs": [
    {
     "name": "stdout",
     "output_type": "stream",
     "text": [
      "(1, 2)\n",
      "middle_name joel\n"
     ]
    }
   ],
   "source": [
    "def some_func(*args, **kwargs):\n",
    "    print(args)\n",
    "    for key, value in kwargs.items():\n",
    "        print(key, value)\n",
    "    \n",
    "some_func(1, 2, middle_name=\"joel\")"
   ]
  },
  {
   "cell_type": "code",
   "execution_count": 72,
   "metadata": {
    "collapsed": false
   },
   "outputs": [
    {
     "name": "stdout",
     "output_type": "stream",
     "text": [
      "('joel', 'clowns', 6)\n"
     ]
    }
   ],
   "source": [
    "person = {\"name\": \"joel\", \"height\": 6, \"fear\": \"clowns\"}\n",
    "extra_info = {\"name\": \"bawb\", \"vertical leap\": 2}\n",
    "\n",
    "some_func(*person.values())"
   ]
  },
  {
   "cell_type": "code",
   "execution_count": 75,
   "metadata": {
    "collapsed": false
   },
   "outputs": [
    {
     "ename": "SyntaxError",
     "evalue": "positional argument follows keyword argument unpacking (<ipython-input-75-79f18857692b>, line 1)",
     "output_type": "error",
     "traceback": [
      "\u001b[0;36m  File \u001b[0;32m\"<ipython-input-75-79f18857692b>\"\u001b[0;36m, line \u001b[0;32m1\u001b[0m\n\u001b[0;31m    some_func(\"matt\", \"zach\", **{**extra_info, **person}, \"joel\")\u001b[0m\n\u001b[0m                                                         ^\u001b[0m\n\u001b[0;31mSyntaxError\u001b[0m\u001b[0;31m:\u001b[0m positional argument follows keyword argument unpacking\n"
     ]
    }
   ],
   "source": [
    "some_func(\"matt\", \"zach\", **{**extra_info, **person})"
   ]
  },
  {
   "cell_type": "code",
   "execution_count": 70,
   "metadata": {
    "collapsed": false
   },
   "outputs": [],
   "source": [
    "person[\"name\"] = \"joel\""
   ]
  },
  {
   "cell_type": "code",
   "execution_count": 71,
   "metadata": {
    "collapsed": false
   },
   "outputs": [
    {
     "data": {
      "text/plain": [
       "{'fear': 'clowns', 'height': 6, 'name': 'joel'}"
      ]
     },
     "execution_count": 71,
     "metadata": {},
     "output_type": "execute_result"
    }
   ],
   "source": [
    "person"
   ]
  },
  {
   "cell_type": "code",
   "execution_count": null,
   "metadata": {
    "collapsed": true
   },
   "outputs": [],
   "source": []
  }
 ],
 "metadata": {
  "kernelspec": {
   "display_name": "Python 3",
   "language": "python",
   "name": "python3"
  },
  "language_info": {
   "codemirror_mode": {
    "name": "ipython",
    "version": 3
   },
   "file_extension": ".py",
   "mimetype": "text/x-python",
   "name": "python",
   "nbconvert_exporter": "python",
   "pygments_lexer": "ipython3",
   "version": "3.5.0"
  }
 },
 "nbformat": 4,
 "nbformat_minor": 0
}
