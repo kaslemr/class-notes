{
 "cells": [
  {
   "cell_type": "code",
   "execution_count": 55,
   "metadata": {
    "collapsed": true
   },
   "outputs": [],
   "source": [
    "# Rider\n",
    "# Bikes\n",
    "# Course\n",
    "import random"
   ]
  },
  {
   "cell_type": "code",
   "execution_count": 442,
   "metadata": {
    "collapsed": true
   },
   "outputs": [],
   "source": [
    "class Rider:\n",
    "    \n",
    "    def __init__(self, top_speed, experience_level=\"beginner\"):\n",
    "        self.location = 0\n",
    "        self.experience_level = experience_level\n",
    "        self.bike = Bike(top_speed=top_speed)\n",
    "        \n",
    "    def can_accelerate(self):\n",
    "        rn = random.random()\n",
    "        if self.experience_level == \"beginner\" and rn <= .55:\n",
    "            return True\n",
    "        elif self.experience_level == \"intermediate\" and rn <= .65:\n",
    "            return True\n",
    "        elif self.experience_level == \"expert\" and rn <= .75:\n",
    "            return True\n",
    "        return False\n",
    "    \n",
    "\n",
    "    def can_decelerate(self):\n",
    "        rn = random.random()\n",
    "        if self.experience_level == \"beginner\" and rn >= .98:\n",
    "            return True\n",
    "        elif self.experience_level == \"intermediate\" and rn >= .95:\n",
    "            return True\n",
    "        elif self.experience_level == \"expert\" and rn >= .90:\n",
    "            return True\n",
    "        return False\n",
    "\n",
    "    def move_forward(self):\n",
    "        self.accelerate()\n",
    "        self.location += self.bike.current_speed\n",
    "    \n",
    "    def accelerate(self):\n",
    "        if self.can_accelerate():\n",
    "            self.bike.accelerate()\n",
    "        if self.can_decelerate():\n",
    "            self.bike.decelerate()"
   ]
  },
  {
   "cell_type": "code",
   "execution_count": 443,
   "metadata": {
    "collapsed": true
   },
   "outputs": [],
   "source": [
    "class Bike:\n",
    "    \n",
    "    def __init__(self, top_speed=20, nickname=\"Snake\"):\n",
    "        self.nickname = nickname\n",
    "        self.current_speed = 0\n",
    "        self.top_speed = top_speed\n",
    "\n",
    "    def __str__(self):\n",
    "        return self.nickname\n",
    "        \n",
    "    def accelerate(self):\n",
    "        if self.current_speed < self.top_speed:\n",
    "            self.current_speed += 1\n",
    "        \n",
    "    def decelerate(self):\n",
    "        if self.current_speed > 1:\n",
    "            self.current_speed -= 1"
   ]
  },
  {
   "cell_type": "code",
   "execution_count": 444,
   "metadata": {
    "collapsed": false
   },
   "outputs": [],
   "source": [
    "class Course:\n",
    "    \n",
    "    def __init__(self):\n",
    "        self.length = 100000\n",
    "        self.riders = self.create_riders()\n",
    "    \n",
    "    def run_race(self):\n",
    "        while not self.somebody_won():\n",
    "            self.simulate()\n",
    "            \n",
    "    def somebody_won(self):\n",
    "        for racer_location in self.report_locations():\n",
    "            if racer_location >= self.length:\n",
    "                return True\n",
    "        return False\n",
    "    \n",
    "    def simulate(self):\n",
    "        for rider in self.riders:\n",
    "            rider.move_forward()\n",
    "            \n",
    "    def report_locations(self):\n",
    "        return [rider.location for rider in self.riders]\n",
    "    \n",
    "    def race_report(self):\n",
    "        return [(rider.location, rider.experience_level, rider.bike.top_speed) for rider in self.riders]\n",
    "    \n",
    "    def outfile_report(self):\n",
    "        top_speed = sorted(self.race_report(), reverse=True, key=lambda x: x[2])[0][2]\n",
    "        top_racer = sorted(self.race_report(), reverse=True)[0]\n",
    "        return top_racer[1], top_racer[2], top_speed - top_racer[2]\n",
    "    \n",
    "    def create_riders(self):\n",
    "        riders = []\n",
    "        for _ in range(13):\n",
    "            top_speed = random.randint(18, 21)\n",
    "            skill = random.choice([\"beginner\", \"intermediate\", \"expert\"])\n",
    "            riders.append(Rider(top_speed, experience_level=skill))\n",
    "        return riders\n"
   ]
  },
  {
   "cell_type": "code",
   "execution_count": null,
   "metadata": {
    "collapsed": false
   },
   "outputs": [],
   "source": []
  },
  {
   "cell_type": "code",
   "execution_count": 445,
   "metadata": {
    "collapsed": false
   },
   "outputs": [],
   "source": [
    "with open(\"race_data.txt\", \"w\") as outfile:\n",
    "    for _ in range(30):\n",
    "        course = Course()\n",
    "        course.run_race()\n",
    "        report = course.outfile_report()\n",
    "        outfile.write(\"{},{},{}\\n\".format(*report))"
   ]
  },
  {
   "cell_type": "code",
   "execution_count": null,
   "metadata": {
    "collapsed": true
   },
   "outputs": [],
   "source": []
  }
 ],
 "metadata": {
  "kernelspec": {
   "display_name": "Python 3",
   "language": "python",
   "name": "python3"
  },
  "language_info": {
   "codemirror_mode": {
    "name": "ipython",
    "version": 3
   },
   "file_extension": ".py",
   "mimetype": "text/x-python",
   "name": "python",
   "nbconvert_exporter": "python",
   "pygments_lexer": "ipython3",
   "version": "3.5.0"
  }
 },
 "nbformat": 4,
 "nbformat_minor": 0
}
