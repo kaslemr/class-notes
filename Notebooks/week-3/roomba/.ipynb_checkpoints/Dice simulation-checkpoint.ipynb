{
 "cells": [
  {
   "cell_type": "code",
   "execution_count": 167,
   "metadata": {
    "collapsed": true
   },
   "outputs": [],
   "source": [
    "import random\n",
    "\n",
    "def roll():\n",
    "    return random.randint(1, 6)\n",
    "\n",
    "def roll_n_dice(num=1):\n",
    "    return sum([roll() for _ in range(num)])\n",
    "\n",
    "def roll_n_times(samples=10, dice_num=2):\n",
    "    return [roll_n_dice(dice_num) for _ in range(samples)]\n",
    "\n",
    "def percent_occurs(samples=10, dice_num=2):\n",
    "    data = roll_n_times(samples, dice_num)\n",
    "    count = 0\n",
    "    for num in data:\n",
    "        if num >= 12:\n",
    "            count += 1\n",
    "    return count / len(data)\n"
   ]
  },
  {
   "cell_type": "markdown",
   "metadata": {},
   "source": [
    "# How likely am I to roll >= 12 with n dice?"
   ]
  },
  {
   "cell_type": "code",
   "execution_count": 99,
   "metadata": {
    "collapsed": false
   },
   "outputs": [
    {
     "data": {
      "text/plain": [
       "[8]"
      ]
     },
     "execution_count": 99,
     "metadata": {},
     "output_type": "execute_result"
    }
   ],
   "source": [
    "roll_n_times(samples=1, dice_num=2)"
   ]
  },
  {
   "cell_type": "code",
   "execution_count": 88,
   "metadata": {
    "collapsed": false
   },
   "outputs": [
    {
     "data": {
      "text/plain": [
       "10"
      ]
     },
     "execution_count": 88,
     "metadata": {},
     "output_type": "execute_result"
    }
   ],
   "source": [
    "roll_n_dice(4)"
   ]
  },
  {
   "cell_type": "code",
   "execution_count": 172,
   "metadata": {
    "collapsed": false
   },
   "outputs": [
    {
     "name": "stdout",
     "output_type": "stream",
     "text": [
      "Likelyhood to roll >= 12 w/ 10 samples & 2 dice 0.0\n",
      "Likelyhood to roll >= 12 w/ 100 samples & 2 dice 0.05\n",
      "Likelyhood to roll >= 12 w/ 1000 samples & 2 dice 0.023\n",
      "Likelyhood to roll >= 12 w/ 10000 samples & 2 dice 0.0317\n",
      "Likelyhood to roll >= 12 w/ 100000 samples & 2 dice 0.0275\n",
      "----------\n",
      "Likelyhood to roll >= 12 w/ 10 samples & 3 dice 0.2\n",
      "Likelyhood to roll >= 12 w/ 100 samples & 3 dice 0.36\n",
      "Likelyhood to roll >= 12 w/ 1000 samples & 3 dice 0.373\n",
      "Likelyhood to roll >= 12 w/ 10000 samples & 3 dice 0.3722\n",
      "Likelyhood to roll >= 12 w/ 100000 samples & 3 dice 0.37703\n",
      "----------\n",
      "Likelyhood to roll >= 12 w/ 10 samples & 4 dice 0.5\n",
      "Likelyhood to roll >= 12 w/ 100 samples & 4 dice 0.78\n",
      "Likelyhood to roll >= 12 w/ 1000 samples & 4 dice 0.751\n",
      "Likelyhood to roll >= 12 w/ 10000 samples & 4 dice 0.7571\n",
      "Likelyhood to roll >= 12 w/ 100000 samples & 4 dice 0.76252\n",
      "----------\n",
      "Likelyhood to roll >= 12 w/ 10 samples & 5 dice 1.0\n",
      "Likelyhood to roll >= 12 w/ 100 samples & 5 dice 0.95\n",
      "Likelyhood to roll >= 12 w/ 1000 samples & 5 dice 0.94\n",
      "Likelyhood to roll >= 12 w/ 10000 samples & 5 dice 0.9435\n",
      "Likelyhood to roll >= 12 w/ 100000 samples & 5 dice 0.9416\n",
      "----------\n"
     ]
    }
   ],
   "source": [
    "for dice_number in [2, 3, 4, 5]:\n",
    "    for sample_count in [10, 100, 1000, 10000, 100000]:\n",
    "        print(\"Likelyhood to roll >= 12 w/ {} samples & {} dice\".format(sample_count, dice_number), \n",
    "              percent_occurs(samples=sample_count, dice_num=dice_number))\n",
    "    print(\"----------\")"
   ]
  },
  {
   "cell_type": "code",
   "execution_count": null,
   "metadata": {
    "collapsed": true
   },
   "outputs": [],
   "source": []
  }
 ],
 "metadata": {
  "kernelspec": {
   "display_name": "Python 3",
   "language": "python",
   "name": "python3"
  },
  "language_info": {
   "codemirror_mode": {
    "name": "ipython",
    "version": 3
   },
   "file_extension": ".py",
   "mimetype": "text/x-python",
   "name": "python",
   "nbconvert_exporter": "python",
   "pygments_lexer": "ipython3",
   "version": "3.5.0"
  }
 },
 "nbformat": 4,
 "nbformat_minor": 0
}
