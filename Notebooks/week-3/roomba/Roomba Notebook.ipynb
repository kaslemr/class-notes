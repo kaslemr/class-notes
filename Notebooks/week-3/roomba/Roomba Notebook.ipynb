{
 "cells": [
  {
   "cell_type": "code",
   "execution_count": 6,
   "metadata": {
    "collapsed": true
   },
   "outputs": [],
   "source": [
    "class Room:\n",
    "    \"\"\"\n",
    "    Responsibilities:\n",
    "    - width\n",
    "    - height\n",
    "    - keeps track of what squares are clean\n",
    "    \"\"\"\n",
    "    def __init__(self, width, height):\n",
    "        self.width = width\n",
    "        self.height = height\n",
    "        self.cleaned_squares = []\n",
    "        \n",
    "    @property\n",
    "    def total_squares(self):\n",
    "        return self.width * self.height\n",
    "    \n",
    "    @property\n",
    "    def total_clean_squares(self):\n",
    "        return len(self.cleaned_squares)\n",
    "    \n",
    "    @property\n",
    "    def total_percent_clean(self):\n",
    "        return self.total_clean_squares / self.total_squares\n",
    "    \n",
    "    def clean_square(self, x, y):\n",
    "        if (x, y) not in self.cleaned_squares:\n",
    "            self.cleaned_squares.append((x, y))\n"
   ]
  },
  {
   "cell_type": "code",
   "execution_count": 7,
   "metadata": {
    "collapsed": true
   },
   "outputs": [],
   "source": [
    "import random\n",
    "\n",
    "\n",
    "class Roomba:\n",
    "    \"\"\"\n",
    "    Responsibilities:\n",
    "    - location\n",
    "    - know how it can translate\n",
    "    - respond to hitting a wall\n",
    "    \"\"\"\n",
    "    def __init__(self, room):\n",
    "        self.room = room\n",
    "        self.place_roomba()\n",
    "        \n",
    "    def place_roomba(self):\n",
    "        width = self.room.width\n",
    "        height = self.room.height\n",
    "        random_x = random.randint(0, width)\n",
    "        random_y = random.randint(0, height)\n",
    "        self.location = (random_x, random_y)\n",
    "        \n",
    "    def move(self):\n",
    "        room_height = self.room.height\n",
    "        room_width = self.room.width\n",
    "        \n",
    "        up_location = (self.location[0], self.location[1] + 1)\n",
    "        down_location = (self.location[0], self.location[1] - 1)\n",
    "        left_location = (self.location[0] - 1, self.location[1])\n",
    "        right_location = (self.location[0] + 1, self.location[1])\n",
    "        next_x, next_y = random.choice(\n",
    "            [up_location, down_location, left_location, right_location])\n",
    "        \n",
    "        if next_y <= room_height and next_y >= 1 and next_x <= room_width and next_x >= 1:\n",
    "            self.location = (next_x, next_y)\n",
    "        self.clean_current_square()\n",
    "        \n",
    "    def clean_current_square(self):\n",
    "        self.room.clean_square(*self.location)"
   ]
  },
  {
   "cell_type": "code",
   "execution_count": 8,
   "metadata": {
    "collapsed": false
   },
   "outputs": [
    {
     "name": "stdout",
     "output_type": "stream",
     "text": [
      "9309  moves to 100% clean\n"
     ]
    }
   ],
   "source": [
    "room = Room(20, 20)\n",
    "\n",
    "roomba = Roomba(room)\n",
    "\n",
    "counter = 0\n",
    "interval_list = []\n",
    "fifty_check = False\n",
    "seventy_five_check = False\n",
    "ninety_five_check = False\n",
    "while room.total_percent_clean < 1.0:\n",
    "    if room.total_percent_clean > .5 and not fifty_check:\n",
    "        interval_list.append(counter)\n",
    "        fifty_check = True\n",
    "        \n",
    "    if room.total_percent_clean > .75 and not seventy_five_check:\n",
    "        interval_list.append(counter)\n",
    "        seventy_five_check = True\n",
    "    \n",
    "    if room.total_percent_clean > .95 and not ninety_five_check:\n",
    "        interval_list.append(counter)\n",
    "        ninety_five_check = True\n",
    "\n",
    "    roomba.move()\n",
    "    counter += 1\n",
    "    \n",
    "interval_list.append(counter)\n",
    "print(counter, \" moves to 100% clean\")\n"
   ]
  },
  {
   "cell_type": "code",
   "execution_count": 9,
   "metadata": {
    "collapsed": false
   },
   "outputs": [
    {
     "data": {
      "text/plain": [
       "[806, 1440, 3693, 9309]"
      ]
     },
     "execution_count": 9,
     "metadata": {},
     "output_type": "execute_result"
    }
   ],
   "source": [
    "interval_list\n"
   ]
  },
  {
   "cell_type": "code",
   "execution_count": 396,
   "metadata": {
    "collapsed": false
   },
   "outputs": [
    {
     "data": {
      "text/plain": [
       "True"
      ]
     },
     "execution_count": 396,
     "metadata": {},
     "output_type": "execute_result"
    }
   ],
   "source": [
    "(5, 5) in [(4, 5), (3, 2), (5, 5)]"
   ]
  },
  {
   "cell_type": "code",
   "execution_count": 1,
   "metadata": {
    "collapsed": true
   },
   "outputs": [],
   "source": [
    "import matplotlib.pyplot as plt"
   ]
  },
  {
   "cell_type": "code",
   "execution_count": 2,
   "metadata": {
    "collapsed": true
   },
   "outputs": [],
   "source": [
    "%matplotlib inline"
   ]
  },
  {
   "cell_type": "code",
   "execution_count": 10,
   "metadata": {
    "collapsed": false
   },
   "outputs": [
    {
     "data": {
      "text/plain": [
       "[<matplotlib.lines.Line2D at 0x111340198>]"
      ]
     },
     "execution_count": 10,
     "metadata": {},
     "output_type": "execute_result"
    },
    {
     "data": {
      "image/png": "[encoded data removed]",
      "text/plain": [
       "<matplotlib.figure.Figure at 0x111309a58>"
      ]
     },
     "metadata": {},
     "output_type": "display_data"
    }
   ],
   "source": [
    "plt.plot(interval_list)"
   ]
  },
  {
   "cell_type": "code",
   "execution_count": null,
   "metadata": {
    "collapsed": true
   },
   "outputs": [],
   "source": []
  }
 ],
 "metadata": {
  "kernelspec": {
   "display_name": "Python 3",
   "language": "python",
   "name": "python3"
  },
  "language_info": {
   "codemirror_mode": {
    "name": "ipython",
    "version": 3
   },
   "file_extension": ".py",
   "mimetype": "text/x-python",
   "name": "python",
   "nbconvert_exporter": "python",
   "pygments_lexer": "ipython3",
   "version": "3.5.0"
  }
 },
 "nbformat": 4,
 "nbformat_minor": 0
}
